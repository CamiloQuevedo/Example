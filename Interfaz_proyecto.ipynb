{
  "nbformat": 4,
  "nbformat_minor": 0,
  "metadata": {
    "colab": {
      "name": "Interfaz proyecto.ipynb",
      "provenance": [],
      "collapsed_sections": [],
      "toc_visible": true,
      "authorship_tag": "ABX9TyNJEbXgCJafeVp5eSjV/xHt",
      "include_colab_link": true
    },
    "kernelspec": {
      "name": "python3",
      "display_name": "Python 3"
    },
    "language_info": {
      "name": "python"
    }
  },
  "cells": [
    {
      "cell_type": "markdown",
      "metadata": {
        "id": "view-in-github",
        "colab_type": "text"
      },
      "source": [
        "<a href=\"https://colab.research.google.com/github/CamiloQuevedo/Example/blob/main/Interfaz_proyecto.ipynb\" target=\"_parent\"><img src=\"https://colab.research.google.com/assets/colab-badge.svg\" alt=\"Open In Colab\"/></a>"
      ]
    },
    {
      "cell_type": "markdown",
      "metadata": {
        "id": "eD_asQvJPDCm"
      },
      "source": [
        "# **CARGAR DATOS**\n"
      ]
    },
    {
      "cell_type": "code",
      "metadata": {
        "colab": {
          "resources": {
            "http://localhost:8080/nbextensions/google.colab/files.js": {
              "data": "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",
              "ok": true,
              "headers": [
                [
                  "content-type",
                  "application/javascript"
                ]
              ],
              "status": 200,
              "status_text": ""
            }
          },
          "base_uri": "https://localhost:8080/",
          "height": 74
        },
        "id": "9wr7NBFMqblB",
        "outputId": "7b53919b-96a4-40eb-fe4f-4c125f64e319"
      },
      "source": [
        "from google.colab import files\n",
        "\n",
        "uploaded=files.upload()"
      ],
      "execution_count": 1,
      "outputs": [
        {
          "output_type": "display_data",
          "data": {
            "text/plain": [
              "<IPython.core.display.HTML object>"
            ],
            "text/html": [
              "\n",
              "     <input type=\"file\" id=\"files-65ed5933-8729-4c9d-82e7-ec1b67975320\" name=\"files[]\" multiple disabled\n",
              "        style=\"border:none\" />\n",
              "     <output id=\"result-65ed5933-8729-4c9d-82e7-ec1b67975320\">\n",
              "      Upload widget is only available when the cell has been executed in the\n",
              "      current browser session. Please rerun this cell to enable.\n",
              "      </output>\n",
              "      <script src=\"/nbextensions/google.colab/files.js\"></script> "
            ]
          },
          "metadata": {}
        },
        {
          "output_type": "stream",
          "name": "stdout",
          "text": [
            "Saving Datos Entrenamiento RNA.xlsx to Datos Entrenamiento RNA.xlsx\n"
          ]
        }
      ]
    },
    {
      "cell_type": "markdown",
      "metadata": {
        "id": "ZnxLFttsOQcX"
      },
      "source": [
        "# **CREAR Y ENTRENAR RED NEURONAL**"
      ]
    },
    {
      "cell_type": "code",
      "metadata": {
        "colab": {
          "base_uri": "https://localhost:8080/",
          "height": 1000
        },
        "id": "p2diArBo25r8",
        "outputId": "9ea5c426-f935-41f5-ec6c-0a2ffcf2841c"
      },
      "source": [
        "from matplotlib import pyplot as plt\n",
        "import tensorflow as tf\n",
        "import numpy as np\n",
        "import pandas as pd\n",
        "from tensorflow.keras.layers import   Dense\n",
        "from tensorflow.keras.models import Sequential\n",
        "from tensorflow.keras.wrappers.scikit_learn import KerasRegressor\n",
        "import sys\n",
        "import tensorflow.lite\n",
        "import io,os,time\n",
        "from pylab import *\n",
        "\n",
        "#------Funciones---------\n",
        "def FunActi():\n",
        "  i=0\n",
        "  while (i<1 or i>7):\n",
        "    print(\"Funciones de activacion\" )\n",
        "    print(\"1.Linear\")\n",
        "    print(\"2.Relu\")\n",
        "    print(\"3.Selu\")\n",
        "    print(\"4.Sigmoid\")\n",
        "    print(\"5.Softmax\")\n",
        "    print(\"6.Tanh\")\n",
        "    print(\"7.Exponential\")\n",
        "    i=int(input(\"Digite el numero de la funcion de activacion: \"))\n",
        "  if(i==1):\n",
        "    Facti='linear'\n",
        "  elif (i==2):\n",
        "    Facti='relu'\n",
        "  elif (i==3):\n",
        "    Facti='selu'\n",
        "  elif (i==4):\n",
        "    Facti='sigmoid'\n",
        "  elif (i==5):\n",
        "    Facti='softmax'\n",
        "  elif (i==6):\n",
        "    Facti='tanh'\n",
        "  else:\n",
        "    Facti='exponential'\n",
        "  return (Facti)\n",
        "\n",
        "def FunOptimi():\n",
        "  i=0\n",
        "  while (i<1 or i>3):\n",
        "    print(\"Algoritmos de optimizacion\" )\n",
        "    print(\"1.Descenso de gradiente estocástico (Adam)\")\n",
        "    print(\"2.Descenso de gradiente con impulso (SGD)\")\n",
        "    print(\"3.Adam basado en la norma del infinito (Adamax\")\n",
        "    i=int(input(\"Digite el numero del optimizador: \"))\n",
        "  if(i==1):\n",
        "    Opti='adam'\n",
        "  elif (i==2):\n",
        "    Opti='SGD'\n",
        "  else:\n",
        "    Opti='Adamax'\n",
        "  return (Opti)\n",
        "\n",
        "def DataFrame():\n",
        "  global datos\n",
        "  global X_test\n",
        "  global Y_test\n",
        "  global X_train\n",
        "  global Y_train\n",
        "  #X_test=datos.iloc[:DValidation]\n",
        "  #Y_test=X_test.iloc[:, Ninputs+1:Ninputs+2]\n",
        "  #X_test=X_test.iloc[:, 1:Ninputs+1]\n",
        "  #datos=datos.drop(range(0,DValidation),axis=0)\n",
        "  X_train=datos.iloc[:, 1:Ninputs+1]\n",
        "  Y_train=datos.iloc[:, Ninputs+1:Ninputs+2]\n",
        "  Y_test=Y_train\n",
        "  X_test=X_train\n",
        "  #print(X_test)\n",
        "  #print(Y_test)\n",
        "  #print(X_train)\n",
        "  #print(Y_train)\n",
        "\n",
        "#-----Variables----------\n",
        "x=0\n",
        "con=0\n",
        "data=''\n",
        "X_train=''\n",
        "Y_train=''\n",
        "X_test=''\n",
        "Y_test=''\n",
        "\n",
        "datos=pd.read_excel(io.BytesIO(uploaded['Datos Entrenamiento RNA.xlsx']),skiprows=1,header=None)\n",
        "datos=datos/100\n",
        "DValidation=int(len(datos)*0.1)\n",
        "\n",
        "Ninputs=int(input(\"Por favor ingrese el numero de entradas de la red neuronal: \"))\n",
        "\n",
        "DataFrame()\n",
        "\n",
        "Co=int(input(\"Por favor ingrese el numero de capas ocultas: \"))\n",
        "for i in range (Co+1):\n",
        "  if (i==0):\n",
        "    model=Sequential()\n",
        "    Nn=input(\"Ingrese el numero de neuronas en la capa oculta #\"+str(i+1)+\" :\")\n",
        "    model.add(Dense(Nn,input_dim=Ninputs, activation=FunActi()))\n",
        "  elif (i==Co):\n",
        "    print(\"Activacion neurona de salida\")\n",
        "    model.add(Dense(1, activation=FunActi()))\n",
        "    model.compile(loss='mse',optimizer=FunOptimi())\n",
        "  else:\n",
        "    Nn=input(\"Ingrese el numero de neuronas en la capa oculta #\"+str(i+1)+\" :\")\n",
        "    model.add(Dense(Nn, activation=FunActi()))\n",
        "Nepocas=int(input(\"Ingrese el numero de epocas de entrenamiento: \"))\n",
        "model.summary()\n",
        "\n",
        "history = model.fit(X_train,\n",
        "                      Y_train,\n",
        "                      epochs=Nepocas,\n",
        "                      batch_size=8,\n",
        "                      validation_data=(X_test,Y_test))\n",
        "\n",
        "#scores = model.evaluate(X_test,Y_test)\n",
        "plt.plot(model.predict(X_test),'.',label=\"Prediccion\")\n",
        "plt.plot(Y_test,'.',label=\"Y_test\")\n",
        "leg = plt.legend(ncol=2, shadow=True)"
      ],
      "execution_count": 2,
      "outputs": [
        {
          "output_type": "stream",
          "name": "stdout",
          "text": [
            "Por favor ingrese el numero de entradas de la red neuronal: 3\n",
            "Por favor ingrese el numero de capas ocultas: 1\n",
            "Ingrese el numero de neuronas en la capa oculta #1 :7\n",
            "Funciones de activacion\n",
            "1.Linear\n",
            "2.Relu\n",
            "3.Selu\n",
            "4.Sigmoid\n",
            "5.Softmax\n",
            "6.Tanh\n",
            "7.Exponential\n",
            "Digite el numero de la funcion de activacion: 4\n",
            "Activacion neurona de salida\n",
            "Funciones de activacion\n",
            "1.Linear\n",
            "2.Relu\n",
            "3.Selu\n",
            "4.Sigmoid\n",
            "5.Softmax\n",
            "6.Tanh\n",
            "7.Exponential\n",
            "Digite el numero de la funcion de activacion: 2\n",
            "Algoritmos de optimizacion\n",
            "1.Descenso de gradiente estocástico (Adam)\n",
            "2.Descenso de gradiente con impulso (SGD)\n",
            "3.Adam basado en la norma del infinito (Adamax\n",
            "Digite el numero del optimizador: 1\n",
            "Ingrese el numero de epocas de entrenamiento: 60\n",
            "Model: \"sequential\"\n",
            "_________________________________________________________________\n",
            " Layer (type)                Output Shape              Param #   \n",
            "=================================================================\n",
            " dense (Dense)               (None, 7)                 28        \n",
            "                                                                 \n",
            " dense_1 (Dense)             (None, 1)                 8         \n",
            "                                                                 \n",
            "=================================================================\n",
            "Total params: 36\n",
            "Trainable params: 36\n",
            "Non-trainable params: 0\n",
            "_________________________________________________________________\n",
            "Epoch 1/60\n",
            "1352/1352 [==============================] - 4s 2ms/step - loss: 0.0344 - val_loss: 0.0028\n",
            "Epoch 2/60\n",
            "1352/1352 [==============================] - 3s 2ms/step - loss: 0.0026 - val_loss: 0.0025\n",
            "Epoch 3/60\n",
            "1352/1352 [==============================] - 3s 2ms/step - loss: 0.0024 - val_loss: 0.0024\n",
            "Epoch 4/60\n",
            "1352/1352 [==============================] - 3s 2ms/step - loss: 0.0023 - val_loss: 0.0022\n",
            "Epoch 5/60\n",
            "1352/1352 [==============================] - 3s 2ms/step - loss: 0.0023 - val_loss: 0.0022\n",
            "Epoch 6/60\n",
            "1352/1352 [==============================] - 3s 2ms/step - loss: 0.0022 - val_loss: 0.0022\n",
            "Epoch 7/60\n",
            "1352/1352 [==============================] - 3s 2ms/step - loss: 0.0022 - val_loss: 0.0022\n",
            "Epoch 8/60\n",
            "1352/1352 [==============================] - 3s 2ms/step - loss: 0.0022 - val_loss: 0.0023\n",
            "Epoch 9/60\n",
            "1352/1352 [==============================] - 3s 2ms/step - loss: 0.0022 - val_loss: 0.0021\n",
            "Epoch 10/60\n",
            "1352/1352 [==============================] - 3s 2ms/step - loss: 0.0021 - val_loss: 0.0021\n",
            "Epoch 11/60\n",
            "1352/1352 [==============================] - 3s 2ms/step - loss: 0.0021 - val_loss: 0.0023\n",
            "Epoch 12/60\n",
            "1352/1352 [==============================] - 3s 2ms/step - loss: 0.0021 - val_loss: 0.0023\n",
            "Epoch 13/60\n",
            "1352/1352 [==============================] - 3s 2ms/step - loss: 0.0021 - val_loss: 0.0022\n",
            "Epoch 14/60\n",
            "1352/1352 [==============================] - 3s 2ms/step - loss: 0.0021 - val_loss: 0.0021\n",
            "Epoch 15/60\n",
            "1352/1352 [==============================] - 3s 2ms/step - loss: 0.0021 - val_loss: 0.0021\n",
            "Epoch 16/60\n",
            "1352/1352 [==============================] - 3s 2ms/step - loss: 0.0021 - val_loss: 0.0021\n",
            "Epoch 17/60\n",
            "1352/1352 [==============================] - 3s 2ms/step - loss: 0.0021 - val_loss: 0.0021\n",
            "Epoch 18/60\n",
            "1352/1352 [==============================] - 3s 2ms/step - loss: 0.0021 - val_loss: 0.0022\n",
            "Epoch 19/60\n",
            "1352/1352 [==============================] - 3s 2ms/step - loss: 0.0021 - val_loss: 0.0020\n",
            "Epoch 20/60\n",
            "1352/1352 [==============================] - 3s 2ms/step - loss: 0.0021 - val_loss: 0.0021\n",
            "Epoch 21/60\n",
            "1352/1352 [==============================] - 3s 2ms/step - loss: 0.0021 - val_loss: 0.0020\n",
            "Epoch 22/60\n",
            "1352/1352 [==============================] - 3s 2ms/step - loss: 0.0021 - val_loss: 0.0020\n",
            "Epoch 23/60\n",
            "1352/1352 [==============================] - 3s 2ms/step - loss: 0.0021 - val_loss: 0.0020\n",
            "Epoch 24/60\n",
            "1352/1352 [==============================] - 3s 2ms/step - loss: 0.0021 - val_loss: 0.0020\n",
            "Epoch 25/60\n",
            "1352/1352 [==============================] - 3s 2ms/step - loss: 0.0021 - val_loss: 0.0020\n",
            "Epoch 26/60\n",
            "1352/1352 [==============================] - 3s 2ms/step - loss: 0.0020 - val_loss: 0.0021\n",
            "Epoch 27/60\n",
            "1352/1352 [==============================] - 3s 2ms/step - loss: 0.0020 - val_loss: 0.0020\n",
            "Epoch 28/60\n",
            "1352/1352 [==============================] - 3s 2ms/step - loss: 0.0020 - val_loss: 0.0020\n",
            "Epoch 29/60\n",
            "1352/1352 [==============================] - 3s 2ms/step - loss: 0.0020 - val_loss: 0.0020\n",
            "Epoch 30/60\n",
            "1352/1352 [==============================] - 3s 2ms/step - loss: 0.0020 - val_loss: 0.0020\n",
            "Epoch 31/60\n",
            "1352/1352 [==============================] - 3s 2ms/step - loss: 0.0020 - val_loss: 0.0020\n",
            "Epoch 32/60\n",
            "1352/1352 [==============================] - 3s 2ms/step - loss: 0.0020 - val_loss: 0.0020\n",
            "Epoch 33/60\n",
            "1352/1352 [==============================] - 3s 2ms/step - loss: 0.0020 - val_loss: 0.0022\n",
            "Epoch 34/60\n",
            "1352/1352 [==============================] - 3s 2ms/step - loss: 0.0020 - val_loss: 0.0019\n",
            "Epoch 35/60\n",
            "1352/1352 [==============================] - 3s 2ms/step - loss: 0.0020 - val_loss: 0.0019\n",
            "Epoch 36/60\n",
            "1352/1352 [==============================] - 3s 2ms/step - loss: 0.0020 - val_loss: 0.0019\n",
            "Epoch 37/60\n",
            "1352/1352 [==============================] - 3s 2ms/step - loss: 0.0020 - val_loss: 0.0019\n",
            "Epoch 38/60\n",
            "1352/1352 [==============================] - 3s 2ms/step - loss: 0.0020 - val_loss: 0.0019\n",
            "Epoch 39/60\n",
            "1352/1352 [==============================] - 3s 2ms/step - loss: 0.0019 - val_loss: 0.0019\n",
            "Epoch 40/60\n",
            "1352/1352 [==============================] - 3s 2ms/step - loss: 0.0019 - val_loss: 0.0019\n",
            "Epoch 41/60\n",
            "1352/1352 [==============================] - 3s 2ms/step - loss: 0.0019 - val_loss: 0.0019\n",
            "Epoch 42/60\n",
            "1352/1352 [==============================] - 3s 2ms/step - loss: 0.0019 - val_loss: 0.0019\n",
            "Epoch 43/60\n",
            "1352/1352 [==============================] - 3s 2ms/step - loss: 0.0019 - val_loss: 0.0019\n",
            "Epoch 44/60\n",
            "1352/1352 [==============================] - 3s 2ms/step - loss: 0.0019 - val_loss: 0.0019\n",
            "Epoch 45/60\n",
            "1352/1352 [==============================] - 3s 2ms/step - loss: 0.0019 - val_loss: 0.0019\n",
            "Epoch 46/60\n",
            "1352/1352 [==============================] - 3s 2ms/step - loss: 0.0019 - val_loss: 0.0018\n",
            "Epoch 47/60\n",
            "1352/1352 [==============================] - 3s 2ms/step - loss: 0.0019 - val_loss: 0.0018\n",
            "Epoch 48/60\n",
            "1352/1352 [==============================] - 3s 2ms/step - loss: 0.0019 - val_loss: 0.0019\n",
            "Epoch 49/60\n",
            "1352/1352 [==============================] - 3s 2ms/step - loss: 0.0019 - val_loss: 0.0018\n",
            "Epoch 50/60\n",
            "1352/1352 [==============================] - 3s 2ms/step - loss: 0.0019 - val_loss: 0.0019\n",
            "Epoch 51/60\n",
            "1352/1352 [==============================] - 3s 2ms/step - loss: 0.0018 - val_loss: 0.0018\n",
            "Epoch 52/60\n",
            "1352/1352 [==============================] - 3s 2ms/step - loss: 0.0018 - val_loss: 0.0018\n",
            "Epoch 53/60\n",
            "1352/1352 [==============================] - 3s 2ms/step - loss: 0.0018 - val_loss: 0.0018\n",
            "Epoch 54/60\n",
            "1352/1352 [==============================] - 3s 2ms/step - loss: 0.0018 - val_loss: 0.0018\n",
            "Epoch 55/60\n",
            "1352/1352 [==============================] - 3s 2ms/step - loss: 0.0018 - val_loss: 0.0018\n",
            "Epoch 56/60\n",
            "1352/1352 [==============================] - 3s 2ms/step - loss: 0.0018 - val_loss: 0.0018\n",
            "Epoch 57/60\n",
            "1352/1352 [==============================] - 3s 2ms/step - loss: 0.0018 - val_loss: 0.0018\n",
            "Epoch 58/60\n",
            "1352/1352 [==============================] - 3s 2ms/step - loss: 0.0018 - val_loss: 0.0018\n",
            "Epoch 59/60\n",
            "1352/1352 [==============================] - 3s 2ms/step - loss: 0.0018 - val_loss: 0.0017\n",
            "Epoch 60/60\n",
            "1352/1352 [==============================] - 3s 2ms/step - loss: 0.0018 - val_loss: 0.0018\n"
          ]
        },
        {
          "output_type": "display_data",
          "data": {
            "text/plain": [
              "<Figure size 432x288 with 1 Axes>"
            ],
            "image/png": "[encoded data removed]"
          },
          "metadata": {
            "needs_background": "light"
          }
        }
      ]
    },
    {
      "cell_type": "markdown",
      "metadata": {
        "id": "Y_2Ex9moNxGq"
      },
      "source": [
        "# **Descargar modelo**"
      ]
    },
    {
      "cell_type": "code",
      "metadata": {
        "id": "2kFx05F3NXwJ",
        "colab": {
          "base_uri": "https://localhost:8080/"
        },
        "outputId": "778cc0ee-4531-47e9-e690-dd6e69da3df3"
      },
      "source": [
        "converter=tf.lite.TFLiteConverter.from_keras_model(model)\n",
        "tflite_model=converter.convert()\n",
        "open(\"/content/model.tflite\",\"wb\").write(tflite_model)"
      ],
      "execution_count": 3,
      "outputs": [
        {
          "output_type": "stream",
          "name": "stdout",
          "text": [
            "INFO:tensorflow:Assets written to: /tmp/tmp_1tjwqf9/assets\n"
          ]
        },
        {
          "output_type": "stream",
          "name": "stderr",
          "text": [
            "WARNING:absl:Buffer deduplication procedure will be skipped when flatbuffer library is not properly loaded\n"
          ]
        },
        {
          "output_type": "execute_result",
          "data": {
            "text/plain": [
              "1540"
            ]
          },
          "metadata": {},
          "execution_count": 3
        }
      ]
    },
    {
      "cell_type": "code",
      "source": [
        "from google.colab import drive\n",
        "drive.mount('/content/drive')"
      ],
      "metadata": {
        "id": "DngHbpjA1QOo"
      },
      "execution_count": null,
      "outputs": []
    },
    {
      "cell_type": "markdown",
      "metadata": {
        "id": "30gWaj3JZjY6"
      },
      "source": [
        "# **Requerimientos**\n"
      ]
    },
    {
      "cell_type": "markdown",
      "metadata": {
        "id": "nSfnV_8AabYN"
      },
      "source": [
        "\n",
        "print(tf.__version__) -> 2.5.0\n",
        "\n",
        "print(pd.__version__) -> 1.1.5\n",
        "\n",
        "print(matplotlib.__version__) -> 3.2.2\n",
        "\n",
        "!python -V -> Python 3.7.11\n",
        "\n",
        "print(sys.version) -> 3.7.11 (default, Jul  3 2021, 18:01:19) [GCC 7.5.0]"
      ]
    }
  ]
}